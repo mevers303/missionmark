{
 "cells": [
  {
   "cell_type": "code",
   "execution_count": 1,
   "metadata": {},
   "outputs": [],
   "source": [
    "from pickle_workaround import pickle_load\n",
    "from TfidfVectorizer import TfidfVectorizer\n",
    "from vectorizer import tokenize\n"
   ]
  },
  {
   "cell_type": "code",
   "execution_count": 6,
   "metadata": {},
   "outputs": [
    {
     "name": "stdout",
     "output_type": "stream",
     "text": [
      "Loading ../static/CountVectorizer.pkl from cache...\n",
      " -> ../static/CountVectorizer.pkl loaded!\n",
      "Loading ../static/TfidfTransformer.pkl from cache...\n",
      " -> ../static/TfidfTransformer.pkl loaded!\n",
      "Loading ../static/NMF.pkl from cache...\n",
      " -> ../static/NMF.pkl loaded!\n",
      "Loading ../static/W.pkl from cache...\n",
      " -> ../static/W.pkl loaded!\n"
     ]
    }
   ],
   "source": [
    "tfidf = TfidfVectorizer(pickle_load(\"../static/CountVectorizer.pkl\"), pickle_load(\"../static/TfidfTransformer.pkl\"))\n",
    "\n",
    "nmf = pickle_load(\"../static/NMF.pkl\")\n",
    "H = nmf.components_\n",
    "W = pickle_load(\"../static/W.pkl\")\n",
    "W_max = W.max()"
   ]
  },
  {
   "cell_type": "code",
   "execution_count": 8,
   "metadata": {},
   "outputs": [
    {
     "data": {
      "text/plain": [
       "array([0.        , 0.        , 0.07666159, 0.        , 0.        ,\n",
       "       0.        , 0.        , 0.16639092, 0.        , 0.        ,\n",
       "       0.        , 0.        , 0.        , 0.        , 0.        ,\n",
       "       0.        , 0.        , 0.        , 0.        , 0.        ,\n",
       "       0.00170883, 0.        , 0.        , 0.        , 0.        ,\n",
       "       0.        , 0.23830235, 0.        , 0.        , 0.        ,\n",
       "       0.21730372, 0.        , 0.        ])"
      ]
     },
     "execution_count": 8,
     "metadata": {},
     "output_type": "execute_result"
    }
   ],
   "source": [
    "hvac_i = tfidf.vocabulary_[\"hvac\"]\n",
    "hvac_topics = H[:, hvac_i]\n",
    "hvac_topics"
   ]
  },
  {
   "cell_type": "code",
   "execution_count": 7,
   "metadata": {},
   "outputs": [
    {
     "data": {
      "text/plain": [
       "(33, 26370)"
      ]
     },
     "execution_count": 7,
     "metadata": {},
     "output_type": "execute_result"
    }
   ],
   "source": [
    "H.shape"
   ]
  },
  {
   "cell_type": "code",
   "execution_count": null,
   "metadata": {},
   "outputs": [],
   "source": []
  }
 ],
 "metadata": {
  "kernelspec": {
   "display_name": "Python 3",
   "language": "python",
   "name": "python3"
  },
  "language_info": {
   "codemirror_mode": {
    "name": "ipython",
    "version": 3
   },
   "file_extension": ".py",
   "mimetype": "text/x-python",
   "name": "python",
   "nbconvert_exporter": "python",
   "pygments_lexer": "ipython3",
   "version": "3.6.5"
  }
 },
 "nbformat": 4,
 "nbformat_minor": 2
}
