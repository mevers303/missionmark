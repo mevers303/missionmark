{
 "cells": [
  {
   "cell_type": "code",
   "execution_count": 10,
   "metadata": {},
   "outputs": [],
   "source": [
    "from pickle_workaround import pickle_load\n",
    "from TfidfVectorizer import TfidfVectorizer\n",
    "from vectorizer import tokenize\n",
    "from nlp import get_top_10_docs\n",
    "from topics import search_models, plot_results\n",
    "\n",
    "import numpy as np\n",
    "import time\n",
    "import datetime\n",
    "import matplotlib.pyplot as plt"
   ]
  },
  {
   "cell_type": "code",
   "execution_count": 2,
   "metadata": {},
   "outputs": [],
   "source": [
    "from __future__ import print_function\n",
    "import pyLDAvis\n",
    "import pyLDAvis.sklearn\n",
    "pyLDAvis.enable_notebook()"
   ]
  },
  {
   "cell_type": "code",
   "execution_count": 3,
   "metadata": {},
   "outputs": [
    {
     "name": "stdout",
     "output_type": "stream",
     "text": [
      "Connecting to Postgres database...\n",
      " -> Connection successful!\n"
     ]
    }
   ],
   "source": [
    "from data import get_query_corpus, get_connection\n",
    "_ = get_connection(\"/home/mark/Documents/missionmark/missionmark_db_creds\")"
   ]
  },
  {
   "cell_type": "code",
   "execution_count": 4,
   "metadata": {},
   "outputs": [
    {
     "name": "stdout",
     "output_type": "stream",
     "text": [
      "Loading corpus...\n",
      " -> 264 documents loaded!\n"
     ]
    }
   ],
   "source": [
    "query = \"\"\"SELECT opportunity_id, program_description\n",
    "           FROM import.govwin_opportunity\n",
    "           WHERE program_description LIKE('%HVAC%')\n",
    "        \"\"\"\n",
    "doc_ids, corpus = get_query_corpus(query, True)"
   ]
  },
  {
   "cell_type": "code",
   "execution_count": 5,
   "metadata": {},
   "outputs": [
    {
     "name": "stdout",
     "output_type": "stream",
     "text": [
      "Loading ../output/CountVectorizer.pkl from cache...\n",
      " -> ../output/CountVectorizer.pkl loaded!\n",
      "Loading ../output/TfidfTransformer.pkl from cache...\n",
      " -> ../output/TfidfTransformer.pkl loaded!\n",
      "Loading ../output/NMF.pkl from cache...                                         \n",
      " -> ../output/NMF.pkl loaded!\n"
     ]
    }
   ],
   "source": [
    "tfidf = TfidfVectorizer(pickle_load(\"../output/CountVectorizer.pkl\"), pickle_load(\"../output/TfidfTransformer.pkl\"))\n",
    "tfidf_corpus = tfidf.transform(corpus)\n",
    "\n",
    "nmf = pickle_load(\"../output/NMF.pkl\")\n",
    "H = nmf.components_\n",
    "W = nmf.transform(tfidf_corpus)\n",
    "W_max = W.max()"
   ]
  },
  {
   "cell_type": "code",
   "execution_count": null,
   "metadata": {},
   "outputs": [],
   "source": [
    "hvac_i = tfidf.vocabulary_[\"hvac\"]\n",
    "n_hvac_topics = np.count_nonzero(H[:, hvac_i])\n",
    "hvac_topics = np.argsort(H[:, hvac_i])[::-1][:n_hvac_topics]\n",
    "hvac_topics_strength = H[:, hvac_i].flatten()[hvac_topics]\n",
    "print(np.stack(hvac_topics, hvac_topics_strength))"
   ]
  },
  {
   "cell_type": "code",
   "execution_count": null,
   "metadata": {
    "scrolled": false
   },
   "outputs": [
    {
     "name": "stdout",
     "output_type": "stream",
     "text": [
      "Building NMF topics...\n",
      "[------------------------------>                   ]  60%        (58/96) 258 iterations"
     ]
    }
   ],
   "source": [
    "min_topics = 5\n",
    "max_topics = 100\n",
    "\n",
    "time_start = time.time()\n",
    "costs, intertopic_similarities, interdocument_similarities = search_models(tfidf_corpus, min_topics, max_topics)\n",
    "time_dif = datetime.timedelta(seconds=round(time.time() - time_start))\n",
    "_ = plot_results(min_topics, costs, intertopic_similarities, interdocument_similarities, time_dif, tfidf_corpus.shape)"
   ]
  },
  {
   "cell_type": "code",
   "execution_count": null,
   "metadata": {},
   "outputs": [],
   "source": []
  }
 ],
 "metadata": {
  "kernelspec": {
   "display_name": "Python 3",
   "language": "python",
   "name": "python3"
  }
 },
 "nbformat": 4,
 "nbformat_minor": 2
}
