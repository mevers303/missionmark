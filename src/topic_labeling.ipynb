{
 "cells": [
  {
   "cell_type": "code",
   "execution_count": 1,
   "metadata": {},
   "outputs": [],
   "source": [
    "from pickle_workaround import pickle_load\n",
    "from TfidfVectorizer import TfidfVectorizer\n",
    "from vectorizer import tokenize\n",
    "from nlp import get_top_10_docs\n",
    "\n",
    "import numpy as np"
   ]
  },
  {
   "cell_type": "code",
   "execution_count": 2,
   "metadata": {},
   "outputs": [],
   "source": [
    "from __future__ import print_function\n",
    "import pyLDAvis\n",
    "import pyLDAvis.sklearn\n",
    "pyLDAvis.enable_notebook()"
   ]
  },
  {
   "cell_type": "code",
   "execution_count": 3,
   "metadata": {},
   "outputs": [
    {
     "name": "stdout",
     "output_type": "stream",
     "text": [
      "Connecting to Postgres database...\n",
      " -> Connection successful!\n"
     ]
    }
   ],
   "source": [
    "from data import get_query_corpus, get_connection\n",
    "_ = get_connection(\"/home/mark/Documents/missionmark/missionmark_db_creds\")"
   ]
  },
  {
   "cell_type": "code",
   "execution_count": 4,
   "metadata": {},
   "outputs": [
    {
     "name": "stdout",
     "output_type": "stream",
     "text": [
      "Loading corpus...\n",
      " -> 8847 documents loaded!\n"
     ]
    }
   ],
   "source": [
    "query = \"\"\"SELECT opportunity_id, program_description\n",
    "           FROM import.govwin_opportunity\n",
    "           WHERE LENGTH(program_description) > 100\n",
    "        \"\"\"\n",
    "doc_ids, corpus = get_query_corpus(query, True)"
   ]
  },
  {
   "cell_type": "code",
   "execution_count": 5,
   "metadata": {},
   "outputs": [
    {
     "name": "stdout",
     "output_type": "stream",
     "text": [
      "Loading ../output/CountVectorizer.pkl from cache...\n",
      " -> ../output/CountVectorizer.pkl loaded!\n",
      "Loading ../output/TfidfTransformer.pkl from cache...\n",
      " -> ../output/TfidfTransformer.pkl loaded!\n",
      "Loading ../output/NMF.pkl from cache...                                         \n",
      " -> ../output/NMF.pkl loaded!\n"
     ]
    }
   ],
   "source": [
    "tfidf = TfidfVectorizer(pickle_load(\"../output/CountVectorizer.pkl\"), pickle_load(\"../output/TfidfTransformer.pkl\"))\n",
    "tfidf_corpus = tfidf.transform(corpus)\n",
    "\n",
    "nmf = pickle_load(\"../output/NMF.pkl\")\n",
    "H = nmf.components_\n",
    "W = nmf.transform(tfidf_corpus)\n",
    "W_max = W.max()"
   ]
  },
  {
   "cell_type": "code",
   "execution_count": 6,
   "metadata": {
    "scrolled": false
   },
   "outputs": [
    {
     "name": "stdout",
     "output_type": "stream",
     "text": [
      "STRENGTH: 0.24282467640147634\n",
      " The Department of Veterans Affairs, Office of Acquisition & Logistics, National Acquisition Center has a requirement for Indefinite Delivery Indefinite Quantity (IDIQ) Multiple Award task order contract (MATOC) for construction to be performed at Building 37 in Hines, IL. REQUIREMENTS  The contractor shall fulfill work included in the task orders may consist of multiple disciplines of construction, and shall include but not be limited to the following categories of work: construction, repair and alteration of facilities, interior and exterior renovations, heating and air-conditioning, HVAC controls, plumbing, fire suppression, interior and exterior electrical and lighting, fire and intrusion alarms, communications, limited utilities, site-work, landscaping, fencing, masonry, roofing, concrete, asphalt paving, painting, storm drainage, limited environmental remediation, concrete and asphalt paving, demolition of facilities, construction of new facilities, and other construction-related work \n",
      "*************************************************************\n",
      "\n",
      "STRENGTH: 0.23202196182411758\n",
      " The Department of the Army, Army National Guard may have an ongoing requirement for multiple IDIQ contracts to accomplish as task orders, a broad range of maintenance, repair and construction services. PREVIOUS REQUIREMENTS:  Construction Indefinite Delivery-Indefinite Quantity (IDIQ) Multiple Award Task Order Contracts (MATOC) for maintenance, repair, construction and design-build services at various locations throughout the State of Vermont  Typical work includes, but is not be limited to:  Interior and exterior renovations, heating and air-conditioning, HVAC controls, plumbing, fire suppression, interior and exterior electrical and lighting, fire and intrusion alarms, communications, limited utilities, site-work, landscaping, fencing, masonry, roofing, concrete, asphalt paving, storm drainage, limited environmental remediation, construction of new facilities, surveys, studies, design-build and other related work  All will be in accordance with individual task order requirements, specifications and drawings provided with each project or master specifications   \n",
      "*************************************************************\n",
      "\n",
      "STRENGTH: 0.2020303726013638\n",
      " The Department of the Army, US Army Corps of Engineer (USACE), Europe District, may have a continuing requirement for construction and repair JOC services in Germany. REQUIREMENTS  Provide contract vehicles for real property repair, maintenance, environmental work, asbestos abatement, force protection work, and construction services in the areas identified below  The orders will primarily address general building renovation, road and pavement repair, and general environmental work  This work includes, but is not limited to, incidental new minor construction, excavation, plumbing, demolition, electrical, structural, mechanical, concrete work, force protection, and environmental remedial work  Project work may also include Design Build projects for various construction and utility infrastructure type projects \n",
      "*************************************************************\n",
      "\n",
      "STRENGTH: 0.1978033725956007\n",
      " The General Services Administration (GSA), Public Buildings Service (PBS), Region 3 may have a continuing requirement for repair and alteration construction services supporting Government-owned and -leased facilities throughout Eastern Pennsylvania Counties. BACKGROUND Based in Philadelphia, GSA's Mid-Atlantic Region provides products and services throughout Delaware, Pennsylvania, southern New Jersey, West Virginia, and much of Maryland and Virginia*. Customers in Europe, Africa, and the Middle East also receive IT Products and Services, Professional Services, and Telecommunications and Network services from over 800 employees located throughout the region and overseas. PREVIOUS REQUIREMENTS The scope of the contract will be to provide:  Construction services, including, but not limited to:  General office renovation  Interior construction  Exterior construction repair  General repair and alteration work  Installation of new and the alteration of existing power panels  Carpet and carpet tile replacement  Painting  HVAC ductwork modification  Modification of existing building fire sprinkler systems  Plastering and plaster repair work  Sidewalk repairs/replacement  Asphalt/concrete paving  Ability to provide asbestos assessments and any environmental remediation work such as mold remediation, asbestos abatement, or lead abatement    Alteration services, including, but not limited to:  Electrical, carpentry, masonry, plumbing, mechanical, architectural, landscaping, storm drainage, exterior restoration, waterproofing, re-pointing, cleaning, and sealing  Roofing involving installation, repair, and alteration, and removal  Paving relevant to property and roads owned, leased or otherwise under the control of GSA, or other authorized Federal agencies  Other task order related work    Design work incidental to construction, as well as design/build work, are included \n",
      "*************************************************************\n",
      "\n",
      "STRENGTH: 0.19397470390016391\n",
      " The General Services Administration (GSA), Public Buildings Service (PBS), Region 3 may have a continuing requirement for repair and alteration construction services supporting Government-owned and -leased facilities throughout Western Pennsylvania Counties and surrounding areas. BACKGROUND Based in Philadelphia, GSA's Mid-Atlantic Region provides products and services throughout Delaware, Pennsylvania, southern New Jersey, West Virginia, and much of Maryland and Virginia*. Customers in Europe, Africa, and the Middle East also receive IT Products and Services, Professional Services, and Telecommunications and Network services from over 800 employees located throughout the region and overseas. PREVIOUS REQUIREMENTS  The scope of this contract is to provide:  Construction services, including, but not limited to:  General office renovation  Interior construction  Exterior construction repair  General repair and alteration work  Installation of new and the alteration of existing power panels  Carpet and carpet tile replacement  Painting  HVAC duct work modification  Modification of existing building fire sprinkler systems  Plastering and plaster repair work  Sidewalk repairs/replacement  Asphalt/concrete paving  Ability to provide asbestos assessments and any environmental remediation work such as mold remediation, asbestos abatement, or lead abatement    Alteration services, including, but not limited to:  Electrical, carpentry, masonry, plumbing, mechanical, architectural, landscaping, storm drain-age, exterior restoration, waterproofing, re-pointing, cleaning, and sealing  Roofing involving installation, repair and alteration, and removal  Paving relevant to property and roads owned, leased or otherwise under the control of GSA, or other authorized Federal agencies  other task order related work    Design work incidental to construction, as well as design/build work, are included   \n",
      "*************************************************************\n",
      "\n",
      "STRENGTH: 0.1907571661489756\n",
      " The Department of the Army, Army Corps of Engineers (USACE), Jacksonville District, may have a requirement for a Regional IDIQ SATOC for design-build construction relating to Building Mechanical Systems, Control, and Industrial Processes Within within the Boundaries of the South Atlantic Division. PREVIOUS REQUIREMENTS   Regional Indefinite Delivery Indefinite Quantity (IDIQ) Single Award Task Order Contract (SATOC) For Design Build Construction CONUS Projects Related to Building Mechanical Systems, Control, and Industrial Processes Within the Boundaries of the South Atlantic Division USACE   Task Orders placed against this Single-Award Task Order Contract (SATOC) include, but are not limited to:  Demolition  Construction  Renovation and repairs related to plumbing  Heating  Air conditioning  Industrial processes  Building control  Other features of work related to building systems or systems related to industrial processes and manufacturing    The contract is not only intended to execute new construction, and design-build but to provide timely response to remediate real and personal property facilities, e.g. maintenance, repair and construction related to, but not limited to, mechanical, plumbing, structural, electrical, heating ventilation and air conditioning (HVAC), fuel systems and instrumentation  Other miscellaneous tasks may include carpentry, painting, masonry, roofing, asbestos and lead-based paint inspections and abatement as necessary for each individual task order necessary to facilitate the repair, replacement or new construction of building or industrial systems  Orders may be issued solely for construction services or for design/build services. No orders will be issued for design services only   \n",
      "*************************************************************\n",
      "\n",
      "STRENGTH: 0.18990165052090696\n",
      " The General Services Administration (GSA) may have a continuing requirement for a Multiple Award, Indefinite Delivery/Indefinite Quantity (IDIQ), contract for repair and alteration construction services for projects in West Virginia and Virginia. BACKGROUND The landlord for the civilian federal government, Public Buildings Service (PBS) acquires space on behalf of the federal government through new construction and leasing, and acts as a caretaker for federal properties across the country. PBS owns or leases 9,624 assets, maintains an inventory of more than 370.2 million square feet of work-space for 1.1 million federal employees, and preserves more than 481 historic properties. PREVIOUS REQUIREMENTS The scope of this contract is to provide:  Construction services, including, but not limited to:  General office renovation  Interior construction  Exterior construction repair  General repair and alteration work  Installation of new and the alteration of existing power panels  Carpet and carpet tile replacement; painting  HVAC duct work modification  Modification of existing building fire sprinkler systems  Plastering and plaster repair work  Sidewalk repairs/replacement  Asphalt/concrete paving    Alteration services, including, but not limited to:  Electrical, carpentry, masonry, plumbing, mechanical, architectural, landscaping, storm drainage, exterior restoration, waterproofing, re-pointing, cleaning, sealing, design-build services  Roofing involving installation, repair and alteration, and removal  Paving relevant to property and roads owned, leased or otherwise under the control of GSA, or other authorized Federal agencies  Other task order related work    In addition, design work incidental to construction as well as design/build work are included  \n",
      "*************************************************************\n",
      "\n",
      "STRENGTH: 0.1893916081012637\n",
      " The General Services Administration, Public Buildings Service has a requirement for the provision of repair and alteration construction services to all locations, owned and leased, within the jurisdiction including, but not limited to, the State of Maryland, including Montgomery and Prince George Counties along with Jefferson and Berkeley Counties in West Virginia, and Washington County located in the District of Columbia (DC). REQUIREMENTS  Construction services, including, but not limited to: general office renovation; interior construction; exterior construction repair; general repair and alteration work; installation of new and the alteration of existing power panels; carpet and carpet tile replacement; painting; HVAC duct work modification; modification of existing building fire sprinkler systems; plastering and plaster repair work; sidewalk repairs/replacement; asphalt/concrete paving  Alteration services, including, but not limited to: electrical, carpentry, masonry, plumbing, mechanical, architectural, landscaping, storm drainage, exterior restoration, waterproofing, re-pointing, cleaning, sealing, design-build services; roofing involving installation, repair and alteration, and removal; and paving relevant to property and roads owned, leased or otherwise under the control of GSA, or other authorized Federal agencies; and other related work. Additionally, design work incidental to construction as well as design/build work are included \n",
      "*************************************************************\n",
      "\n",
      "STRENGTH: 0.18632228495289901\n",
      " The Department of the Army, National Guard Bureau (NGB) has a requirement for maintenance, repair, construction and design-build services for the Georgia Army and Air National Guard. REQUIREMENTS:  Typical work includes, but is not be limited to: interior and exterior renovations, heating and air-conditioning, HVAC controls, plumbing, fire suppression, interior and exterior electrical and lighting, fire and intrusion alarms, communications, limited utilities, site-work, landscaping, fencing, masonry, roofing, concrete, asphalt paving, storm drainage, limited environmental remediation, construction of new facilities, surveys, studies, design-build and other related work  All will be in accordance with individual task order requirements, specifications and drawings provided with each project or master specifications  It should be noted that the majority of task orders under these contracts will be for sustainment, repairs and maintenance (SRM) projects under $1M \n",
      "*************************************************************\n",
      "\n",
      "STRENGTH: 0.1856504374610055\n",
      " The General Services Administration (GSA), Region 3 has a requirement for Construction Services in the State of Pennsylvania. BACKGROUND Based in Philadelphia, GSA's Mid-Atlantic Region provides products and services throughout Delaware, Pennsylvania, southern New Jersey, West Virginia, and much of Maryland and Virginia*. Customers in Europe, Africa, and the Middle East also receive IT Products and Services, Professional Services, and Telecommunications and Network services from over 800 employees located throughout the region and overseas. REQUIREMENTS The scope of work includes:  Construction services, including, but not limited to:  General office renovation  Interior construction  Exterior construction repair  General repair and alteration work  Installation of new and the alteration of existing power panels  Carpet and carpet tile replacement; painting  HVAC duct work modification  Modification of existing building fire sprinkler systems  Plastering and plaster repair work  Sidewalk repairs/replacement  Asphalt/concrete paving    Alteration services, including, but not limited to:  Electrical, carpentry, masonry, plumbing, mechanical, architectural, landscaping, storm drainage, exterior restoration, waterproofing, re-pointing, cleaning, sealing, design-build services  Roofing involving installation, repair and alteration, and removal  Paving relevant to property and roads owned, leased or otherwise under the control of GSA, or other authorized Federal agencies   \n",
      "*************************************************************\n",
      "\n"
     ]
    }
   ],
   "source": [
    "for doc, strength in get_top_10_docs(W, 26):\n",
    "    print(\"STRENGTH:\", strength)\n",
    "    print(corpus[doc])\n",
    "    print(\"*************************************************************\\n\")"
   ]
  },
  {
   "cell_type": "code",
   "execution_count": null,
   "metadata": {},
   "outputs": [],
   "source": []
  }
 ],
 "metadata": {
  "kernelspec": {
   "display_name": "Python 3",
   "language": "python",
   "name": "python3"
  },
  "language_info": {
   "codemirror_mode": {
    "name": "ipython",
    "version": 3
   },
   "file_extension": ".py",
   "mimetype": "text/x-python",
   "name": "python",
   "nbconvert_exporter": "python",
   "pygments_lexer": "ipython3",
   "version": "3.6.5"
  }
 },
 "nbformat": 4,
 "nbformat_minor": 2
}
