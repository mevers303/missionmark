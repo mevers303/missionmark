{
 "cells": [
  {
   "cell_type": "code",
   "execution_count": 3,
   "metadata": {},
   "outputs": [],
   "source": [
    "from pickle_workaround import pickle_load\n",
    "from TfidfVectorizer import TfidfVectorizer\n",
    "from vectorizer import tokenize, extract_requirements\n",
    "from nlp import get_top_10_docs\n",
    "from data import get_query_corpus, get_connection\n",
    "\n",
    "import numpy as np\n",
    "import matplotlib.pyplot as plt\n",
    "\n",
    "from wordcloud import WordCloud"
   ]
  },
  {
   "cell_type": "code",
   "execution_count": 4,
   "metadata": {},
   "outputs": [
    {
     "name": "stdout",
     "output_type": "stream",
     "text": [
      "Connecting to Postgres database...\n",
      " -> Connection successful!\n"
     ]
    }
   ],
   "source": [
    "# _ = get_connection(\"/home/mark/Documents/missionmark/missionmark_db_creds\")\n",
    "# \n",
    "# query = \"\"\"\n",
    "#            SELECT opportunity_id, program_description\n",
    "#            FROM import.govwin_opportunity\n",
    "#            WHERE program_description LIKE('%REQUIREMENT%')\n",
    "#         \"\"\"\n",
    "# doc_ids, corpus = get_query_corpus(query, True)\n",
    "# corpus = np.array([extract_requirements(doc) for doc in corpus])"
   ]
  },
  {
   "cell_type": "code",
   "execution_count": 6,
   "metadata": {},
   "outputs": [
    {
     "name": "stdout",
     "output_type": "stream",
     "text": [
      "Loading ../output/CountVectorizer.pkl from cache...\n",
      " -> ../output/CountVectorizer.pkl loaded!\n",
      "Loading ../output/TfidfTransformer.pkl from cache...\n",
      " -> ../output/TfidfTransformer.pkl loaded!\n",
      "Loading ../output/NMF.pkl from cache...                                         \n",
      " -> ../output/NMF.pkl loaded!\n"
     ]
    }
   ],
   "source": [
    "tfidf = TfidfVectorizer(pickle_load(\"../output/CountVectorizer.pkl\"), pickle_load(\"../output/TfidfTransformer.pkl\"))\n",
    "tfidf_corpus = pickle_load(\"../output/tfidf_corpus.pkl\")\n",
    "# tfidf_corpus = tfidf.transform(corpus)\n",
    "vocabulary = tfidf.get_feature_names()\n",
    "\n",
    "nmf = pickle_load(\"../output/NMF.pkl\")\n",
    "H = nmf.components_\n",
    "W = nmf.transform(tfidf_corpus)\n",
    "W_max = W.max()"
   ]
  },
  {
   "cell_type": "code",
   "execution_count": 41,
   "metadata": {
    "scrolled": false
   },
   "outputs": [
    {
     "name": "stdout",
     "output_type": "stream",
     "text": [
      "STRENGTH: 0.27292452972514064\n",
      "S  The Contractor shall provide all management, tools, equipment, and labor necessary to ensure that custodial services are performed at Wright-Patterson AFB, Ohio in a manner that will maintain a satisfactory facility condition and present a clean, neat and professional appearance  The contractor shall accomplish all cleaning tasks and replenish soap and paper products in all restrooms  Facility Cleaning Services:  Non-Carpeted Floors (Hard Floors: Vinyl Tile, Ceramic Tile, Wood, Concrete, etc...)  Carpeted Floors  Stairways/Elevators/Handicap Lifts  Clean Floor (Walk-Off) Mats  Trash Collection/Removal (Centralized Locations)    Restrooms/Locker Rooms Cleaning Services:  Clean and Disinfect  Restroom Floor Care  Power Scrub Shower Floor  Power Scrub Locker Room Floor  Stock Restroom Supplies  Drinking Fountains  Restroom Trash Removal    Periodic Cleaning Services  Periodic Hard Floor Maintenance   \n",
      "*************************************************************\n",
      "\n",
      "STRENGTH: 0.26074657795121475\n",
      "S  The Contractor shall provide all management, tools, equipment, and labor necessary to ensure that custodial services are performed at Lakehurst, JB MDL, in a manner that will maintain a satisfactory facility condition and present a clean, neat and professional appearance.  Facility Cleaning Services:  Non-Carpeted Floors (Hard Floors: Vinyl Tile, Ceramic Tile, Wood, Concrete, etc...)  Carpeted Floors  Stairways / Elevators / Handicap Lifts  Clean Floor (Walk-Off) Mats  Trash Collection/Removal    Restrooms / Locker Rooms Cleaning Services:  Clean and Disinfect  Restroom Floor Care  Stock Restroom Supplies  Drinking Fountains  Restroom Trash Removal    Periodic Cleaning Services  Periodic Hard Floor Maintenance  Periodic Carpet Restorative Cleaning    Special Cleaning Requirements  Child Development Center (CDC)  Special Clearance Requirements; Child Development Center and Youth Center      \n",
      "*************************************************************\n",
      "\n",
      "STRENGTH: 0.2590917421896724\n",
      "S The Contractor shall provide all management, tools, equipment, storage, office, and labor necessary to ensure that custodial services and window cleaning are performed at Sheppard Air Force Base and two buildings located at Frederick Auxiliary Airfield in Frederick, Oklahoma, in a manner that will maintain a satisfactory facility condition and present a clean, neat, and professional appearance. The Contractor shall accomplish all cleaning tasks and be required to provide and replenish trash liners, toilet paper, paper towels, and hand soap in all restrooms identified.  Facility Cleaning Services  Non-Carpeted Floors (Hard Floors: Vinyl Tile, Ceramic Tile, Wood, Concrete, etc.)  Carpeted Floors  Stairways/Elevators/Handicap Lifts  Clean Floor (Walk-Off) Mats  Trash Collection/Removal (Centralized Locations)  Drinking Fountains    Restrooms/Locker Rooms Cleaning Services  Clean and Disinfect  Restroom Floor Care  Stock Restroom Supplies  Restroom Trash Removal  Occupied Restrooms  Building 2320 Restrooms    Periodic Cleaning Services  Periodic Hard Floor Maintenance  Periodic Carpet Restorative Cleaning  Periodic Window Cleaning  Scheduling of Periodic Cleaning Services    Special Cleaning Requirements  Child Development Center (CDC) / Youth Activity Center (YAC)  Youth Activity Center  Fitness Centers   \n",
      "*************************************************************\n",
      "\n",
      "STRENGTH: 0.25731570707569346\n",
      "S The Contractor shall provide all management, tools, equipment, and labor necessary to ensure that custodial services are performed at Hurlburt Field, FL in a manner that will maintain a satisfactory facility condition and present a clean, neat and professional appearance. The contractor shall accomplish all cleaning tasks and be required to provide and replenish soap and paper products in all restrooms identified in Appendices A and B, in order to meet the requirements of this PWS and the Service Summary (SS). Cleaning frequencies are established in Appendix A, Air Force Custodial Common Frequency of Service Standards. Facility cleaning levels and estimated square footages are established in Appendix B, Estimated Square Footages and Cleaning Level. Facility drawings of areas cleaned are established in Appendix C, Floor Plans and Maps. All work performed by the contractor shall be performed in accordance with all applicable laws, regulations, AF standards, instructions, and commercial practices.  Facility Cleaning Services  Non-Carpeted Floors (Hard Floors: Vinyl Tile, Ceramic Tile, Wood, Concrete, etc...)  Carpeted Floors  Stairways/Elevators/Handicap Lifts  Clean Floor (Walk-Off) Mats  Trash Collection/Removal (Centralized Locations)  Drinking Fountains    Restrooms/Locker Rooms Cleaning Services  Clean and Disinfect  Restroom Floor Care  Stock Restroom Supplies  Restroom Trash Removal   \n",
      "*************************************************************\n",
      "\n",
      "STRENGTH: 0.2546915825616337\n",
      "S:  Custodial services at the Red River Army Depot in Texarkana, Texas  The items included in the PWS are but not limited to: maintain floors, remove trash, empty and clean public ashtrays and urns, clean interior/exterior glass/mirrors, clean and disinfect drinking fountains, clean stairways, vacuum carpets, spot clean carpets, shampoo carpets/stairways, water extraction, vacuum and clean floor/walk-off mats, general spot cleaning, general dusting, restrooms & change rooms, clean and disinfect restrooms, de-scale showers, toilet bowls, urinals and sinks, sweep/mop/disinfect floor, restock restroom/shower rooms/custodial closets, and trash removal   \n",
      "*************************************************************\n",
      "\n",
      "STRENGTH: 0.24772382706105361\n",
      "S The Contractor shall provide all management, tools, equipment, and labor necessary to ensure that custodial services are performed at Yokota Air Base, Japan, in a manner that will maintain a satisfactory facility condition and present a clean, neat and professional appearance. The Contractor shall accomplish all cleaning tasks and be required to replenish soap and paper products in all restrooms.  Facility Cleaning Services  Non-Carpeted Floors (Hard Floors: Vinyl Tile, Ceramic Tile, Wood, Concrete, etc...)  Carpeted Floors  Clean Floor (Walk-Off) Mats  Remove Trash and Recyclables    Restrooms/Locker Rooms Cleaning Services  Clean and Disinfect  Restroom Floor Care  Stock Restroom Supplies  Drinking Fountains  Restroom Trash Removal    Periodic Cleaning Services  Periodic Hard Floor Maintenance  Periodic Carpet Restorative Cleaning    Special Cleaning Requirements  Child Development Center (CDC)  Special Clearance Requirements; Child Development Center and Youth Activity Center  Required Training  Immunizations  Cleaning Requirements Child Development Center  Special Requirements/Level 4 Cleaning  Additional Services - MHF and O&M Towers  Additional Services - Department of Defense Dependents Schools (DODDS) Facilities  Emergency or Special Event Cleaning Services    Contractor Provided Equipment and Supplies  Contractor-Furnished Equipment/Vehicles  Contractor-Furnished Supplies   \n",
      "*************************************************************\n",
      "\n",
      "STRENGTH: 0.24599131685482215\n",
      "S  Vacuum Carpet  Shampooing Carpet  Sweep Floors  Mopping and Spray Buffing Floors  Stripping Wax and Applying New Wax  Clean Walk-Off Mats  Remove Trash  Perform Low Dusting  Clean Glass  Clean Exercise Room Equipment (if applicable)  Clean Drinking Fountains  Perform Spot Cleaning  Sweep and Damp Mop Restroom, Locker Room, Exercise Room, Shower Floors or Other Tiled or Smooth Surface Floors  De-scaling Restrooms, Showers, Holding Cells  Supply Restrooms, Locker Rooms, Holding Cells  Apply Floor Finish on Restroom and Locker Room Floors  High Dusting  Window Surfaces  Light Fixtures  Check and Replace Light Bulbs  Wash Venetian Blinds  Dust Venetian Blinds  Clean Air Conditioning Vents \n",
      "*************************************************************\n",
      "\n",
      "STRENGTH: 0.23716387470717584\n",
      "S The contractor shall provide non-personal service to include all management, tools, equipment, supplies, and labor necessary to ensure that custodial services are performed at JBSA Randolph, Seguin Air Field, and JBSA Canyon Lake Recreational Area in a manner that will maintain a satisfactory facility condition and present a clean, neat and professional appearance. The contractor shall accomplish all cleaning tasks and be required to provide and replenish soap and paper products in all restrooms identified in Appendices A and B, in order to meet the requirements of this PWS and the Service Delivery Summary (SDS). Cleaning frequencies are established in Appendix A, Headquarters (HQ) Air Education Training Command (AETC) Custodial Standards. Facility cleaning levels and approximate square footages are established in Appendix B, Approximate Square Footages and Cleaning Level. Facility drawings illustrating areas requiring custodial services are established in Appendix C, Floor Plans and Maps. All work performed by the Contractor shall be performed in accordance with (IAW) all applicable laws, regulations, HQ Air Force (HAF), HQ AETC standards, instructions, and commercial practices.  Facility Cleaning Services:  Non-Carpeted Floors (Hard Floors: Vinyl Tile, Ceramic Tile, Wood, Concrete, etc.)  Carpeted Floors  Stairways/Elevators/Handicap Lifts  Clean Floor (Walk-Off) Mats  Trash Collection/Removal    Restrooms/Locker Rooms Cleaning Services  Clean and Disinfect  Restroom Floor Care  Stock Restroom Supplies  Drinking Fountains  Restroom Trash Removal  Maintain Waterless Urinals    Periodic Cleaning Services  Periodic Hard Floor Maintenance  Periodic Carpet Restorative Cleaning  Periodic Cleaning of Windows  Raised Computer Floor   \n",
      "*************************************************************\n",
      "\n",
      "STRENGTH: 0.2349654626665531\n",
      "S  The Contractor shall perform Custodial Services which consist of following Tasks which need to be performed on scheduled frequencies as outlined for each category:  Base Custodial:  Sweep and/or Dust Mop Floors  Vacuum Carpet and/or Rug Cleaning  Trash Removal  Remove Recycling Materials (Weekly)  Clean & Disinfect Drinking Fountains / Water Coolers / Eyewash Stations  Clean and Service Restrooms  Showers  Locker Rooms  Disinfect Toilets, Urinals and Restock Bathroom Supplies  Dust/Clean Interior/Exterior Glass, Glass Doors  Windows & Treatments  Partitions, Furniture & Light Fixtures  Wash Interior/Exterior Glass, Glass Doors  Windows  Partitions  Clean Stairs & Landings  Damp Mop Floors  Wax / Buff Floors (Dry Buff or Spray/Buff)  Stripping/ Waxing Floors  Cleaning/Shampooing Carpet  Emergency Cleaning  Child Development Services (CDC) - Hospital Grade Cleaning     \n",
      "*************************************************************\n",
      "\n",
      "STRENGTH: 0.23391332422595373\n",
      "S  The contractor shall provide all management tools, equipment, and labor necessary to ensure that custodial services are performed in a manner that will maintain a satisfactory facility condition and present a safe, sanitary, and enhanced (healing) environment  Basic Cleaning Services  Maintain floors  Remove Trash  Clean Interior Glass/Mirrors  Clean Drinking Fountains  Vacuum and Clean Floor Mats  General Dusting  Clean and Disinfect  Sweep and Mop Floor  Patient Equipment Cleaning  Periodic Cleaning Services   \n",
      "*************************************************************\n",
      "\n"
     ]
    }
   ],
   "source": [
    "topic_i = 26\n",
    "\n",
    "# wc = WordCloud(background_color=\"black\", max_words=666, width=2000, height=1000)\n",
    "# wc.fit_words({vocabulary[word_i]: H[topic_i, word_i] for word_i in range(H.shape[1]) if H[topic_i, word_i]})\n",
    "# plt.imshow(wc, interpolation='bilinear')\n",
    "# plt.axis(\"off\")\n",
    "# plt.show()\n",
    "\n",
    "for doc, strength in get_top_10_docs(W, topic_i):\n",
    "    print(\"STRENGTH:\", strength)\n",
    "    print(corpus[doc])\n",
    "    print(\"*************************************************************\\n\")"
   ]
  },
  {
   "cell_type": "code",
   "execution_count": 8,
   "metadata": {},
   "outputs": [],
   "source": [
    "wc.to_image().show()"
   ]
  }
 ],
 "metadata": {
  "kernelspec": {
   "display_name": "Python 3",
   "language": "python",
   "name": "python3"
  }
 },
 "nbformat": 4,
 "nbformat_minor": 2
}
