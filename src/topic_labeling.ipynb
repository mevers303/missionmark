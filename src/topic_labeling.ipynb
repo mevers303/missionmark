{
 "cells": [
  {
   "cell_type": "code",
   "execution_count": 2,
   "metadata": {},
   "outputs": [],
   "source": [
    "from pickle_workaround import pickle_load\n",
    "from TfidfVectorizer import TfidfVectorizer\n",
    "from vectorizer import tokenize\n",
    "from nlp import get_top_10_docs\n",
    "\n",
    "import numpy as np"
   ]
  },
  {
   "cell_type": "code",
   "execution_count": 3,
   "metadata": {},
   "outputs": [],
   "source": [
    "from __future__ import print_function\n",
    "import pyLDAvis\n",
    "import pyLDAvis.sklearn\n",
    "pyLDAvis.enable_notebook()"
   ]
  },
  {
   "cell_type": "code",
   "execution_count": 4,
   "metadata": {},
   "outputs": [
    {
     "name": "stdout",
     "output_type": "stream",
     "text": [
      "Connecting to Postgres database...\n",
      " -> Connection successful!\n"
     ]
    }
   ],
   "source": [
    "from data import get_query_corpus, get_connection\n",
    "_ = get_connection(\"/home/mark/Documents/missionmark/missionmark_db_creds\")"
   ]
  },
  {
   "cell_type": "code",
   "execution_count": 9,
   "metadata": {},
   "outputs": [
    {
     "name": "stdout",
     "output_type": "stream",
     "text": [
      "Loading corpus...\n",
      " -> 8847 documents loaded!\n"
     ]
    }
   ],
   "source": [
    "query = \"\"\"SELECT opportunity_id, program_description\n",
    "           FROM import.govwin_opportunity\n",
    "           WHERE LENGTH(program_description) > 100\n",
    "        \"\"\"\n",
    "doc_ids, corpus = get_query_corpus(query, True)"
   ]
  },
  {
   "cell_type": "code",
   "execution_count": 10,
   "metadata": {},
   "outputs": [
    {
     "name": "stdout",
     "output_type": "stream",
     "text": [
      "Loading ../output/CountVectorizer.pkl from cache...\n",
      " -> ../output/CountVectorizer.pkl loaded!\n",
      "Loading ../output/TfidfTransformer.pkl from cache...\n",
      " -> ../output/TfidfTransformer.pkl loaded!\n",
      "Loading ../output/NMF.pkl from cache...                                         \n",
      " -> ../output/NMF.pkl loaded!\n"
     ]
    }
   ],
   "source": [
    "tfidf = TfidfVectorizer(pickle_load(\"../output/CountVectorizer.pkl\"), pickle_load(\"../output/TfidfTransformer.pkl\"))\n",
    "tfidf_corpus = tfidf.transform(corpus)\n",
    "\n",
    "nmf = pickle_load(\"../output/NMF.pkl\")\n",
    "H = nmf.components_\n",
    "W = nmf.transform(tfidf_corpus)\n",
    "W_max = W.max()"
   ]
  },
  {
   "cell_type": "code",
   "execution_count": 26,
   "metadata": {
    "scrolled": false
   },
   "outputs": [
    {
     "name": "stdout",
     "output_type": "stream",
     "text": [
      "STRENGTH: 0.13408183717250413\n",
      " The Department of Health and Human Services (HHS), National Institutes of Health (NIH), National Institute of Allergy and Infectious Disease's (NIAID) may have a continuing requirement for Preclinical Development Services for AIDS Therapeutics. BACKGROUND   The National Institutes of Health (NIH), a part of the U.S. Department of Health and Human Services, is the primary Federal agency for conducting and supporting medical research. Helping to lead the way toward important medical discoveries that improve people’s health and save lives, NIH scientists investigate ways to prevent disease as well as the causes, treatments, and even cures for common and rare diseases. Composed of 27 Institutes and Centers, the NIH provides leadership and financial support to researchers in every state and throughout the world. For over a century, the National Institutes of Health has played an important role in improving the health of the nation. The NIH traces its roots to 1887 with the creation of the Laboratory of Hygiene at the Marine Hospital in Staten Island, NY. NIH is the steward of medical and behavioral research for the Nation. Its mission is science in pursuit of fundamental knowledge about the nature and behavior of living systems and the application of that knowledge to extend healthy life and reduce the burdens of illness and disability. The National Institute of Allergy and Infectious Diseases (NIAID) conducts and supports basic and applied research to better understand, treat, and ultimately prevent infectious, immunologic, and allergic diseases. For more than 50 years, NIAID research has led to new therapies, vaccines, diagnostic tests, and other technologies that have improved the health of millions of people in the United States and around the world. PREVIOUS REQUIREMENTS:  The Contractor will carry out tasks in the following three areas:  Administrative and Technical Support  This task area includes general administrative and technical activities to support all future Task Orders awarded under the contract    Formulation and Dosage Form Manufacture  Under this task area, the Contractor shall conduct studies in compliance with current Good Manufacturing Practice (cGMP) to support the development of formulations of potential therapeutic agents and Microbicides  Targeted formulations shall include tablets, capsules, lyophilized powders, solutions, suspensions, aerosols, gels, films, or rings for vaginal or rectal delivery    Pharmacology and Toxicology  Under this task area, the Contractor shall conduct studies to assess the pharmacology and toxicology of potential therapeutic agents and Microbicides  Testings shall be conducted in vitro or in relevant animal species  Studies shall be performed in compliance with Good Laboratory Practice (GLP) guidelines (21 CFR 58) when requested  Additionally, the Contractor shall conduct all animal studies in a facility accredited by the Association for Assessment and Accreditation of Laboratory Animal Care (AAALAC) or its equivalent     \n",
      "*************************************************************\n",
      "\n",
      "STRENGTH: 0.13261473234215257\n",
      " The Department of Health and Human Services, National Institutes of Health may have a continuing requirement for cancer prevention clinical trials auditing and informatics support. BACKGROUND NIH is the nation's medical research agency, making important medical discoveries that improve health and save lives.  The National Institutes of Health (NIH), a part of the U.S. Department of Health and Human Services, is the primary Federal agency for conducting and supporting medical research.  Helping to lead the way toward important medical discoveries that improve people’s health and save lives, NIH scientists investigate ways to prevent disease as well as the causes, treatments, and even cures for common and rare diseases. PREVIOUS REQUIREMENTS  The Contractor shall:  Provide services to coordinate and integrate transition tasks  Provide an instance of Oracle®Clinical-Remote Data Capture (OC-RCD) and the services for the data management of designated cancer prevention clinical trials and the development, maintenance and integration of data transfer and reporting mechanisms for data collected from cancer prevention clinical trials  Provide auditing and data verification services for cancer prevention clinical trials  Provide education and training services to staff conducting cancer prevention clinical trials   \n",
      "*************************************************************\n",
      "\n",
      "STRENGTH: 0.1229516903436858\n",
      " The US Department of Health and Human Services, National Institutes of Health, National Institute of Allergies and Infectious Diseases (NIAID) may have a continuing requirement for the provision of comprehensive statistical support, data management and analysis activities for DMID-sponsored clinical work. BACKGROUND:  The Department of Health and Human Services is the United States government's principal agency for protecting the health of all Americans and providing essential human services, especially for those who are least able to help themselves. The National Institute of Allergy and Infectious Diseases (NIAID) conducts and supports basic and applied research to better understand, treat, and ultimately prevent infectious, immunologic, and allergic diseases. For more than 50 years, NIAID research has led to new therapies, vaccines, diagnostic tests, and other technologies that have improved the health of millions of people in the United States and around the world. PREVIOUS REQUIREMENTS: The Contractor must be capable of establishing and managing a Statistical and Data Coordinating Center (SDCC) to support DMID’s extramural clinical research programs through the provision of:  Statistical design and analysis expertise  Computerized systems for the collection, storage, management, reporting and quality control of study data  Assistance in the preparation of study-related materials and instructions  A system for the tracking of clinical specimens  Training of clinical site staff and assessment of clinical site capabilities for data collection and management  A data repository for completed DMID-sponsored clinical studies  The contractor must also be capable of facilitating the evaluation of new vaccines and other prophylactic and therapeutic agents of priority to the DMID by providing data coordination and related research support functions for Division-sponsored multi-center Phase I, II, III and IV clinical trials. The multi-faceted goal of this effort would be to provide sound study design, facilitate study implementation in accordance with clinical and regulatory guidelines, provide for secure and efficient data management, and to perform data analysis.  Specifically, the Contractors must be capable of serving as a coordinating center for DMID clinical and epidemiologic studies with respect to elements of study design, planning and logistics, training and communications, data collection, management and analysis and related support activities. This typically would involve a multi-center effort and a collaborative relationship among clinical investigators, other supporting Contractors and DMID staff. The Contractor would review clinical protocols and provide recommendations concerning study design, primary and secondary endpoints, power calculations and sample size.  The contractor would also design case report forms, write procedure manuals for study implementation, perform all programming for data management and analysis and generate reports for studies conducted under a variety of contract and grant mechanisms. The contractor provides training to site staff for on-line enrollment and randomization of study subjects, remote electronic data entry into the web-based data management systems.  A contractor must also have the capability to develop and manage interfaces among existing data systems and maintains numerous websites. \n",
      "*************************************************************\n",
      "\n",
      "STRENGTH: 0.12042075283110897\n",
      " The Department of Health and Human Services, National Institutes on Health, National Institute on Drug Abuse, may have a continuing requirement for the Data, Statistics, and Clinical Trial Support. BACKGROUND: The National Institute on Drug Abuse (NIDA) was established in 1974, and in 1992 it became part of the National Institutes of Health, Department of Health and Human Services. NIDA's mission is to \"...lead the Nation in bringing the power of science to bear on drug abuse and addiction.\" NIDA supports over 85 percent of the world's research on the health aspects of drug abuse and addiction. NIDA-supported science addresses the most fundamental and essential questions about drug abuse, ranging from the molecule to managed care, and from DNA to community outreach research. PREVIOUS REQUIREMENTS:  The project activities will support NIDA trials in the following areas:  Establish and administer electronic web-based systems for the collection, management and storage of study data  Assist in the design of trials, provide support for protocol development and perform statistical analyses, develop statistical sections of protocols, including study design, randomization, power and sample size calculations  Review and monitor the quality of study data, perform data audits, perform ongoing data error resolutions, verify laboratory and other clinical data  Monitor trial performance and progress, create daily and monthly reports for each trial's performance  Prepare reports and hold meetings for the Data and Safety Monitoring Boards (DSMB)  Participate in relevant committee and subcommittee meetings and conference calls  Provide other expert consultation and support services in fields such as Electronic Health Records, Common Data Elements, and registry trials   \n",
      "*************************************************************\n",
      "\n",
      "STRENGTH: 0.11820313555977058\n",
      " The Department of Health and Human Services (HHS), National Institutes of Health (NIH), National Cancer Institute (NCI), Division of Cancer Prevention (DCP) has a continuing requirement for the provision of technical information support resources for cancer preventive agent identification, development, and qualification for clinical trials. BACKGROUND The Division of Cancer Prevention has over 40 active clinical trials, 15 trials in development and is the sponsor for approximately 35 INDs (Investigational New Drug Applications). DCPs INDs are located in six Divisions at the Food and Drug Administration (FDA). The mission of DCP is to plan and direct cancer prevention research, including testing promising agents in human clinical trials as part of a drug development program. Such testing falls under the purview of regulatory agencies such as the FDA and requires certain documentation for the use of the investigational agent. The collection, preparation, submission and continual update of this documentation is the focus of this acquisition.  Maintenance of information regarding preclinical results from testing candidate chemopreventive or immunopreventive agents and corresponding databases is also a requirement. REQUIREMENTS  Task Area 1: Cancer Preventive Agent Identification, Documentation, and Prioritization  Task Area 2: Cancer Preventive Agent Data and Report Analysis, Status and Documentation  Task Area 3: Information Management System  Task Area 4: General Tasks  \n",
      "*************************************************************\n",
      "\n",
      "STRENGTH: 0.11704704591095713\n",
      " The Department of Health and Human Services, National Institutes of Health, National Institute of Allergy and Infectious Diseases may have a continuing requirement for In Vitro Testing Resource for HIV Therapeutics and Topical Microbicides. BACKGROUND: Research supported by the National Institute of Allergy and Infectious Diseases (NIAID), National Institutes of Health (NIH), Department of Health and Human Services (DHHS), strives to understand, treat, and ultimately prevent the myriad of infectious, immunologic, and allergic diseases that threaten millions of human lives. The NIAID Division of Acquired Immunodeficiency Syndrome (DAIDS) supports extramural research to study, control and prevent diseases caused by the human immunodeficiency virus (HIV). Support for basic and applied research to develop and evaluate therapeutics, vaccines, non-vaccine prevention modalities, and diagnostics is provided through a variety of research grants and contracts. DAIDS also supports an array of research resources to assist investigators, including programs that provide or produce organisms, state-of-the-art reagents, and preclinical and clinical translational research services ( http://www.niaid.nih.gov/LabsAndResources/resources/ATRG/Pages/default.aspx ). The development and introduction of new therapeutics and topical microbicides against HIV remains a high public health priority. To assist in filling these public health gaps, the NIAID supports preclinical development of promising therapeutic and topical microbicide candidates that emerge from academia, the private sector, or other sources. The purpose of the proposed contract is to provide product development services utilizing biochemical and cell-based assays in both standard and high throughput screening (HTS) formats. Both contracts are currently awarded to Southern Research Institute. These services have assisted a wide variety of investigators in obtaining critical data needed to acquire additional funding, gain prospective partnerships (either for further development or to support Phase I trials), and fulfill regulatory agency requirements. PREVIOUS REQUIREMENTS:  The Contractor shall provide support to carry out activities in the following five task areas:  Administration and Data Coordination: This task area includes essential activities that shall be performed by the  In Vitro Confirmatory Testing and Screening of Interventional Agents in Standard Formats: Under this task area, the Contractor shall conduct confirmatory in vitro testing of anti-HIV therapeutics and topical microbicides  In Vitro Screening of Interventional Agents in High Throughput Screening (HTS) Formats: Under this task area, the Contractor shall acquire and store chemical compound libraries and conduct screening to identify anti-HIV therapeutics and topical microbicides using a HTS format. Note: Under the current contract, the Contractor has been required to select, purchase, and plate a 100,000 compound chemical library and conduct HTS on 700,000 compounds per year. Offerors responding to the solicitation will be asked to describe their rationale in the selection of a 100,000 compound chemical library for purchase and their capability to conduct HTS on at least 700,000 compounds per year in cell based or biochemical assays  Develop New In Vitro Assays: Under this task area, the Contractor shall develop new assays to evaluate the efficacy of interventional agents against HIV  Conduct Hit-To-Lead Progression Studies on Interventional Agents: Under this task area, the Contractor shall perform activities required for the optimization, development, and synthesis of lead candidates and analogs, which may include resynthesis, acquisition, or purchase of new compounds. Anticipated Period of Performance   \n",
      "*************************************************************\n",
      "\n",
      "STRENGTH: 0.11618332436326993\n",
      " The Department of Health and Human Services, National Institutes of Health, National Institute of Allergy and Infectious Diseases' (NIAID), Division of Microbiology and Infectious Diseases' (DMID) has a continuing requirement for the design, development, maintenance, and continuous updating of scientific databases for five (5) or more micro-organisms. BACKGROUND The National Institute of Allergy and Infectious Diseases (NIAID), National Institutes of Health (NIH), of the Department of Health and Human Services (DHHS) supports research related to the basic understanding of microbiology and immunology leading to the development of vaccines, therapeutics, and medical diagnostics for the prevention, treatment, and diagnosis of infectious and immune-mediated diseases.  NIAID has made a significant investment in funding basic and clinical research projects that are generating large, diverse and complex data sets including genomics/omics data, clinical data, immune phenotyping assay data, imaging and other data sets. The infectious disease and immune mediated disease communities have become a data-intense enterprise and a priority for NIAID is to transform this data into knowledge to understand the pathogenesis, transmission, evolution of the pathogen, pathogen-host interactions and the host response to infectious diseases and inform the development of new and improved diagnostics, therapeutics, and vaccines. NIAID has invested in bioinformatics and data science for data generated by NIAID intramural and extramural communities and has expanded its activities in data management systems, bioinformatics resource centers and data repositories that have provided the broad scientific community with user friendly interfaces for public access to data and analytic tools. REQUIREMENTS The proposed BRCs will provide the following:  Data-driven production-level sustainable computational platform(s) that enable sharing and access to usable data, portable computational tools, and standards that support interoperability.  Expertise in infectious diseases with bioinformatics services and training to support large-scale, system level diverse data integration and modeling, to support predictive biology for pathogens and host-pathogen interactions that will accelerate discovery research, clinical investigation, and therapeutic development for infectious diseases.  A bioinformatics platform that is expected to serve as a model for future NIAID systems.  Two centers are planned, one for bacterial species and viral families and one for protozoan species, fungi and invertebrate vectors of human pathogens. Offerors may propose to one or both data resources for the group of organisms\n",
      "*************************************************************\n",
      "\n",
      "STRENGTH: 0.11598590797751449\n",
      " The Department of Health and Human Services, National Institutes of Health, National Institute of Allergy and Infectious Diseases (NIAID) has a continuing requirement for the provision of comprehensive support for the scientific, management, administrative, and technical activities of the Division of Intramural Research (DIR) and the Vaccine Research Center (VRC). BACKGROUND The mission of NIAID is to conduct and support basic, translational and clinical research to better understand, treat, and ultimately prevent infectious, immunologic, and allergic diseases. Infectious diseases include global killers such as human immunodeficiency virus/acquired immunodeficiency syndrome (HIV/AIDS), tuberculosis (TB), and malaria; emerging or reemerging threats such as influenza, novel pathogenic coronaviruses (e.g., Middle East respiratory syndrome), Ebola, Zika, chikungunya, multiple drug resistant bacteria (e.g., multi-drug resistant Staphylococcus aureus), and extensively drug resistant TB (XDR TB); and \"deliberately emerging\" threats from potential agents of bioterrorism. Immune-mediated disorders include autoimmune diseases such as lupus and type 1 diabetes, asthma, allergies and graft rejection and other problems associated with tissue and organ transplantation. For more than 60 years, NIAID research has led to new therapies, vaccines, diagnostic tests and other technologies that have improved the health of millions of people in the US and around the world. The scope of NIAID research portfolio has expanded considerably in recent years in response to new challenges such as bioterrorism, emerging and re-emerging infectious diseases, and the increase of asthma prevalence among children in this country. To accomplish this mission, NIAID conducts and supports a comprehensive portfolio of research that provides the scientific understanding and research platforms for translational and clinical research to develop and test vaccines, therapeutics, and diagnostics to prevent and treat the many infectious, immune-mediated, and allergic diseases that afflict people throughout the world. New and expanding Congressional mandates, rapid evolution of research tools and technical capabilities, changing policies and information technologies, expanding research programs, and NIAID's leadership role in the global community has resulted in a critical requirement to obtain highly specialized scientific and technical services of a contractor capable of flexible assignments and availability. The National Institute of Allergy and Infectious Diseases (NIAID), National Institutes of Health (NIH), requires qualified and experienced personnel to support a full-range of activities, including new and in-progress research projects, program deployment and implementation, and other activities necessary to conduct the business and fulfill the mission of the NIAID's scientific research program.  REQUIREMENTS  Task Area A - Supporting Efficient Science: Professional, Management & Operations: Services in this Task Area involve providing professional expertise and analysis; management and operational support, program and project management  Task Area B - Technical Specialties and Scientific Infrastructure: Activities under this Task Area have been grouped into several categories that include but are not limited to scientific/technical writing and editing, scientific communications support, graphic design, grants management, and outreach activities. Services in this Task Area involves logistical support, obtaining, compiling, or organizing data and writing reports, conducting or assisting in all publishing or other communications efforts related to the research. In addition, the Contractor may be required to present findings at meetings both inside and outside of the Government. All information must be cleared by the task leader before being disseminated outside of the NIH  Task Area C - Specialized Scientific Research and Advisory Support: Provide support directly in service of leading or conducting basic/clinical research or supporting scientific oversight for extramural research. Services in this Task Area involve directly assisting in an experiment, laboratory, or a clinical setting; providing scientific or other professional analysis and advice; Support requests that may arise for a temporary Consultant and/or specialist to be brought on for advisory services and input on a specified project. This support shall be provided to various offices and Divisions within NIAID \n",
      "*************************************************************\n",
      "\n",
      "STRENGTH: 0.1155944228863415\n",
      " The Department of Health and Human Services (HHS), National Institutes of Health may have a continuing requirement for Targeted Clinical Trials to Reduce the Risk of Antimicrobial Resistance. BACKGROUND The Department of Health and Human Services (HHS) is the United States government's principal agency for protecting the health of all Americans and providing essential human services, especially for those who are least able to help themselves. The National Institutes of Health (NIH), a part of the U.S. Department of Health and Human Services, is the primary Federal agency for conducting and supporting medical research. Helping to lead the way toward important medical discoveries that improve people’s health and save lives, NIH scientists investigate ways to prevent disease as well as the causes, treatments, and even cures for common and rare diseases. NIH research impacts:  Child and teen health  Men's health  Minority health  Seniors' health  Women's health  Wellness and lifestyle issues  The National Institute of Allergy and Infectious Diseases (NIAID), National Institutes of Health (NIH), of the Department of Health and Human Services (DHHS) supports research related to the basic understanding of microbiology and immunology leading to the development of vaccines, therapeutics, and medical diagnostics for the prevention, treatment, and diagnosis of infectious and immune-mediated diseases. The NIAID, Division of Microbiology and Infectious Diseases has an interest in identifying innovative approaches to effectively treat bacterial infections with antimicrobials that minimize the development of drug resistance PREVIOUS REQUIREMENTS: Provide the following:   Identifying innovative approaches to effectively treat bacterial infections with antimicrobials that minimize the development of drug resistance    This BAA targets infectious diseases where improved treatment strategies could reduce the risk of antimicrobial resistance and preserve the effectiveness of existing antimicrobials    A central goal of this solicitation is to target disease areas experiencing the greatest antimicrobial selective pressure, and within these areas, develop strategies that test the safety and effectiveness of different therapeutic approaches/regimens that reduce the probability of the emergence of drug resistance by minimizing unnecessary drug exposure    Contracts to be awarded under this BAA will support the design and conduct of Phase III and/or Phase IV clinical trials of new strategies for the use of licensed, off-patent antimicrobial therapies to reduce the risk of antimicrobial resistance in selected infectious diseases    For the purposes of this BAA, the disease areas that may be supported under this BAA are limited to the following:    Acute otitis media    Pneumonia    Bacteremia    Both community-associated and hospital-associated infections in these disease areas are eligible      Eligible strategies may include, but are not limited to:    Different dosage or frequency, supported by PK/PD data, where optimal treatment is well defined, e.g., the use of penicillin in penicillin-resistant pneumonia    Withholding of antimicrobials (altogether) for certain diseases and identifying eligible populations for this type of strategy    Shorter treatment duration for the disease areas listed above    \n",
      "*************************************************************\n",
      "\n",
      "STRENGTH: 0.11524677718287898\n",
      " The Department of Health and Human Services, National Institutes of Health, National Institute on Alcohol Abuse and Alcoholism, has a continuing requirement for Preclinical Medications Screening in Alcohol Dependence and Anxiety Models. BACKGROUND: The National Institute on Alcohol Abuse and Alcoholism (NIAAA) is one of the 27 institutes and centers that comprise the National Institutes of Health (NIH). NIAAA supports and conducts research on the impact of alcohol use on human health and well-being. REQUIREMENTS:  The Contractor will be responsible for:  Performing all studies and statistical analyses  Ensuring the quality of study data  Preparing final compound study reports  Providing scientific expertise on the development of experimental protocols, if deemed necessary   \n",
      "*************************************************************\n",
      "\n"
     ]
    }
   ],
   "source": [
    "for doc, strength in get_top_10_docs(W, 14):\n",
    "    print(\"STRENGTH:\", strength)\n",
    "    print(corpus[doc])\n",
    "    print(\"*************************************************************\\n\")"
   ]
  },
  {
   "cell_type": "code",
   "execution_count": null,
   "metadata": {},
   "outputs": [],
   "source": []
  }
 ],
 "metadata": {
  "kernelspec": {
   "display_name": "Python 3",
   "language": "python",
   "name": "python3"
  },
  "language_info": {
   "codemirror_mode": {
    "name": "ipython",
    "version": 3
   },
   "file_extension": ".py",
   "mimetype": "text/x-python",
   "name": "python",
   "nbconvert_exporter": "python",
   "pygments_lexer": "ipython3",
   "version": "3.6.5"
  }
 },
 "nbformat": 4,
 "nbformat_minor": 2
}
